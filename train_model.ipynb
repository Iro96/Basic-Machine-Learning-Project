{
  "nbformat": 4,
  "nbformat_minor": 0,
  "metadata": {
    "colab": {
      "provenance": []
    },
    "kernelspec": {
      "name": "python3",
      "display_name": "Python 3"
    },
    "language_info": {
      "name": "python"
    }
  },
  "cells": [
    {
      "cell_type": "markdown",
      "source": [
        "#Train a Basic Machine Learning *Model*"
      ],
      "metadata": {
        "id": "73xvi5WLILWO"
      }
    },
    {
      "cell_type": "markdown",
      "source": [
        "##Step 1 - Install Dependencies and Import them"
      ],
      "metadata": {
        "id": "mxedsv6aKHw6"
      }
    },
    {
      "cell_type": "code",
      "execution_count": null,
      "metadata": {
        "id": "OlOvsC6bHmZm"
      },
      "outputs": [],
      "source": [
        "# 📦 Install requirements\n",
        "!pip install -r requirements.txt"
      ]
    },
    {
      "cell_type": "code",
      "source": [
        "# 📊 Import libs\n",
        "import pandas as pd\n",
        "from sklearn.ensemble import RandomForestClassifier\n",
        "import joblib\n",
        "import os"
      ],
      "metadata": {
        "id": "67OetXcqITO8"
      },
      "execution_count": null,
      "outputs": []
    },
    {
      "cell_type": "markdown",
      "source": [
        "##Step 2 - Load and Prepare Data"
      ],
      "metadata": {
        "id": "59bHEQ4PKfYG"
      }
    },
    {
      "cell_type": "code",
      "source": [
        "# ✅ Load data\n",
        "df = pd.read_csv(\"example.csv\") # Here we use file csv and load csv type but you can change if you want\n",
        "X = df.copy()\n",
        "y = [0, 1, 0, 1, 0]  # Dummy labels"
      ],
      "metadata": {
        "id": "ltoFWDgcIa1h"
      },
      "execution_count": null,
      "outputs": []
    },
    {
      "cell_type": "markdown",
      "source": [
        "##Step 3 - Train the Model"
      ],
      "metadata": {
        "id": "-qCm2lr5KpSy"
      }
    },
    {
      "cell_type": "code",
      "source": [
        "# 🧠 Train model\n",
        "model = RandomForestClassifier()\n",
        "model.fit(X, y)"
      ],
      "metadata": {
        "id": "FyetwJtwJNmp"
      },
      "execution_count": null,
      "outputs": []
    },
    {
      "cell_type": "markdown",
      "source": [
        "##Step 4 - Save Trained Model"
      ],
      "metadata": {
        "id": "lzC056MUK0c5"
      }
    },
    {
      "cell_type": "code",
      "source": [
        "# 💾 Save model\n",
        "os.makedirs(\"model\", exist_ok=True)\n",
        "joblib.dump(model, \"model/model.pkl\")\n",
        "\n",
        "print(\"Model trained and saved to model/model.pkl\")"
      ],
      "metadata": {
        "id": "dJkzYrIAJQMv"
      },
      "execution_count": null,
      "outputs": []
    },
    {
      "cell_type": "markdown",
      "source": [
        "#✅ Model training complete!\n",
        "The trained model is saved as ../model/model.pkl. You can now use it in the General ML Dashboard with Streamlit."
      ],
      "metadata": {
        "id": "j3JXtyzMK8zP"
      }
    }
  ]
}